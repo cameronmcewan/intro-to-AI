{
 "cells": [
  {
   "cell_type": "code",
   "execution_count": 1,
   "metadata": {},
   "outputs": [],
   "source": [
    "import pandas as pd\n",
    "import numpy as np\n",
    "import matplotlib.pyplot as plt\n",
    "%matplotlib inline"
   ]
  },
  {
   "cell_type": "markdown",
   "metadata": {},
   "source": [
    "# Download CSV file"
   ]
  },
  {
   "cell_type": "code",
   "execution_count": 2,
   "metadata": {},
   "outputs": [],
   "source": [
    "df = pd.read_csv('coursework_fintech.csv', parse_dates=['Date'], index_col=['Date'],  dayfirst=True)"
   ]
  },
  {
   "cell_type": "code",
   "execution_count": 3,
   "metadata": {},
   "outputs": [
    {
     "data": {
      "text/html": [
       "<div>\n",
       "<style scoped>\n",
       "    .dataframe tbody tr th:only-of-type {\n",
       "        vertical-align: middle;\n",
       "    }\n",
       "\n",
       "    .dataframe tbody tr th {\n",
       "        vertical-align: top;\n",
       "    }\n",
       "\n",
       "    .dataframe thead th {\n",
       "        text-align: right;\n",
       "    }\n",
       "</style>\n",
       "<table border=\"1\" class=\"dataframe\">\n",
       "  <thead>\n",
       "    <tr style=\"text-align: right;\">\n",
       "      <th></th>\n",
       "      <th>Open</th>\n",
       "      <th>High</th>\n",
       "      <th>Low</th>\n",
       "      <th>Close</th>\n",
       "      <th>Adj Close</th>\n",
       "      <th>Day</th>\n",
       "      <th>Month</th>\n",
       "      <th>Year</th>\n",
       "    </tr>\n",
       "    <tr>\n",
       "      <th>Date</th>\n",
       "      <th></th>\n",
       "      <th></th>\n",
       "      <th></th>\n",
       "      <th></th>\n",
       "      <th></th>\n",
       "      <th></th>\n",
       "      <th></th>\n",
       "      <th></th>\n",
       "    </tr>\n",
       "  </thead>\n",
       "  <tbody>\n",
       "    <tr>\n",
       "      <th>1995-01-03</th>\n",
       "      <td>0.347098</td>\n",
       "      <td>0.347098</td>\n",
       "      <td>0.338170</td>\n",
       "      <td>0.342634</td>\n",
       "      <td>0.290447</td>\n",
       "      <td>3</td>\n",
       "      <td>1</td>\n",
       "      <td>1995</td>\n",
       "    </tr>\n",
       "    <tr>\n",
       "      <th>1995-01-04</th>\n",
       "      <td>0.344866</td>\n",
       "      <td>0.353795</td>\n",
       "      <td>0.344866</td>\n",
       "      <td>0.351563</td>\n",
       "      <td>0.298016</td>\n",
       "      <td>4</td>\n",
       "      <td>1</td>\n",
       "      <td>1995</td>\n",
       "    </tr>\n",
       "    <tr>\n",
       "      <th>1995-01-05</th>\n",
       "      <td>0.350446</td>\n",
       "      <td>0.351563</td>\n",
       "      <td>0.345982</td>\n",
       "      <td>0.347098</td>\n",
       "      <td>0.294231</td>\n",
       "      <td>5</td>\n",
       "      <td>1</td>\n",
       "      <td>1995</td>\n",
       "    </tr>\n",
       "    <tr>\n",
       "      <th>1995-01-06</th>\n",
       "      <td>0.371652</td>\n",
       "      <td>0.385045</td>\n",
       "      <td>0.367188</td>\n",
       "      <td>0.375000</td>\n",
       "      <td>0.317883</td>\n",
       "      <td>6</td>\n",
       "      <td>1</td>\n",
       "      <td>1995</td>\n",
       "    </tr>\n",
       "    <tr>\n",
       "      <th>1995-01-09</th>\n",
       "      <td>0.371652</td>\n",
       "      <td>0.373884</td>\n",
       "      <td>0.366071</td>\n",
       "      <td>0.367885</td>\n",
       "      <td>0.311852</td>\n",
       "      <td>9</td>\n",
       "      <td>1</td>\n",
       "      <td>1995</td>\n",
       "    </tr>\n",
       "    <tr>\n",
       "      <th>...</th>\n",
       "      <td>...</td>\n",
       "      <td>...</td>\n",
       "      <td>...</td>\n",
       "      <td>...</td>\n",
       "      <td>...</td>\n",
       "      <td>...</td>\n",
       "      <td>...</td>\n",
       "      <td>...</td>\n",
       "    </tr>\n",
       "    <tr>\n",
       "      <th>2021-12-27</th>\n",
       "      <td>177.089996</td>\n",
       "      <td>180.419998</td>\n",
       "      <td>177.070007</td>\n",
       "      <td>180.330002</td>\n",
       "      <td>180.330002</td>\n",
       "      <td>27</td>\n",
       "      <td>12</td>\n",
       "      <td>2021</td>\n",
       "    </tr>\n",
       "    <tr>\n",
       "      <th>2021-12-28</th>\n",
       "      <td>180.160004</td>\n",
       "      <td>181.330002</td>\n",
       "      <td>178.529999</td>\n",
       "      <td>179.289993</td>\n",
       "      <td>179.289993</td>\n",
       "      <td>28</td>\n",
       "      <td>12</td>\n",
       "      <td>2021</td>\n",
       "    </tr>\n",
       "    <tr>\n",
       "      <th>2021-12-29</th>\n",
       "      <td>179.330002</td>\n",
       "      <td>180.630005</td>\n",
       "      <td>178.139999</td>\n",
       "      <td>179.380005</td>\n",
       "      <td>179.380005</td>\n",
       "      <td>29</td>\n",
       "      <td>12</td>\n",
       "      <td>2021</td>\n",
       "    </tr>\n",
       "    <tr>\n",
       "      <th>2021-12-30</th>\n",
       "      <td>179.470001</td>\n",
       "      <td>180.570007</td>\n",
       "      <td>178.089996</td>\n",
       "      <td>178.199997</td>\n",
       "      <td>178.199997</td>\n",
       "      <td>30</td>\n",
       "      <td>12</td>\n",
       "      <td>2021</td>\n",
       "    </tr>\n",
       "    <tr>\n",
       "      <th>2021-12-31</th>\n",
       "      <td>178.089996</td>\n",
       "      <td>179.229996</td>\n",
       "      <td>177.259995</td>\n",
       "      <td>177.570007</td>\n",
       "      <td>177.570007</td>\n",
       "      <td>31</td>\n",
       "      <td>12</td>\n",
       "      <td>2021</td>\n",
       "    </tr>\n",
       "  </tbody>\n",
       "</table>\n",
       "<p>6799 rows × 8 columns</p>\n",
       "</div>"
      ],
      "text/plain": [
       "                  Open        High         Low       Close   Adj Close  Day  \\\n",
       "Date                                                                          \n",
       "1995-01-03    0.347098    0.347098    0.338170    0.342634    0.290447    3   \n",
       "1995-01-04    0.344866    0.353795    0.344866    0.351563    0.298016    4   \n",
       "1995-01-05    0.350446    0.351563    0.345982    0.347098    0.294231    5   \n",
       "1995-01-06    0.371652    0.385045    0.367188    0.375000    0.317883    6   \n",
       "1995-01-09    0.371652    0.373884    0.366071    0.367885    0.311852    9   \n",
       "...                ...         ...         ...         ...         ...  ...   \n",
       "2021-12-27  177.089996  180.419998  177.070007  180.330002  180.330002   27   \n",
       "2021-12-28  180.160004  181.330002  178.529999  179.289993  179.289993   28   \n",
       "2021-12-29  179.330002  180.630005  178.139999  179.380005  179.380005   29   \n",
       "2021-12-30  179.470001  180.570007  178.089996  178.199997  178.199997   30   \n",
       "2021-12-31  178.089996  179.229996  177.259995  177.570007  177.570007   31   \n",
       "\n",
       "            Month  Year  \n",
       "Date                     \n",
       "1995-01-03      1  1995  \n",
       "1995-01-04      1  1995  \n",
       "1995-01-05      1  1995  \n",
       "1995-01-06      1  1995  \n",
       "1995-01-09      1  1995  \n",
       "...           ...   ...  \n",
       "2021-12-27     12  2021  \n",
       "2021-12-28     12  2021  \n",
       "2021-12-29     12  2021  \n",
       "2021-12-30     12  2021  \n",
       "2021-12-31     12  2021  \n",
       "\n",
       "[6799 rows x 8 columns]"
      ]
     },
     "execution_count": 3,
     "metadata": {},
     "output_type": "execute_result"
    }
   ],
   "source": [
    "df['Day'] = df.index.day\n",
    "df['Month'] = df.index.month\n",
    "df['Year'] = df.index.year\n",
    "df"
   ]
  },
  {
   "cell_type": "markdown",
   "metadata": {},
   "source": [
    "Print the shape of Dataframe  and Check for Null Values"
   ]
  },
  {
   "cell_type": "code",
   "execution_count": 4,
   "metadata": {},
   "outputs": [
    {
     "name": "stdout",
     "output_type": "stream",
     "text": [
      "Dataframe Shape: (6799, 8)\n",
      "Any NaN Values Present? False\n"
     ]
    }
   ],
   "source": [
    "print(\"Dataframe Shape:\", df.shape)\n",
    "print(\"Any NaN Values Present?\", df.isnull().values.any())"
   ]
  },
  {
   "cell_type": "markdown",
   "metadata": {},
   "source": [
    "# Plot APPL stock price data"
   ]
  },
  {
   "cell_type": "code",
   "execution_count": 5,
   "metadata": {},
   "outputs": [
    {
     "data": {
      "text/plain": [
       "Text(0.5, 1.0, 'Daily Apple Inc. Stock Price')"
      ]
     },
     "execution_count": 5,
     "metadata": {},
     "output_type": "execute_result"
    },
    {
     "data": {
      "image/png": "[encoded data removed]",
      "text/plain": [
       "<Figure size 864x360 with 1 Axes>"
      ]
     },
     "metadata": {
      "needs_background": "light"
     },
     "output_type": "display_data"
    }
   ],
   "source": [
    "ts = df['Adj Close'].plot(figsize=[12,5])\n",
    "plt.xlabel('Date')\n",
    "plt.ylabel('Stock Price, $')\n",
    "plt.title('Daily Apple Inc. Stock Price')"
   ]
  },
  {
   "cell_type": "code",
   "execution_count": 6,
   "metadata": {},
   "outputs": [
    {
     "data": {
      "text/plain": [
       "Text(0.5, 1.0, 'Daily Apple Inc. Stock Price')"
      ]
     },
     "execution_count": 6,
     "metadata": {},
     "output_type": "execute_result"
    },
    {
     "data": {
      "image/png": "[encoded data removed]",
      "text/plain": [
       "<Figure size 864x360 with 1 Axes>"
      ]
     },
     "metadata": {
      "needs_background": "light"
     },
     "output_type": "display_data"
    }
   ],
   "source": [
    "ts = df[['Close','Adj Close']][6600:].plot(figsize=[12,5])\n",
    "plt.xlabel('Date')\n",
    "plt.ylabel('Stock Price, $')\n",
    "plt.title('Daily Apple Inc. Stock Price')"
   ]
  },
  {
   "cell_type": "markdown",
   "metadata": {},
   "source": [
    "# Setting target variable as the adjusted close price and the feature selection"
   ]
  },
  {
   "cell_type": "code",
   "execution_count": 7,
   "metadata": {},
   "outputs": [
    {
     "name": "stdout",
     "output_type": "stream",
     "text": [
      "(6799, 7)\n",
      "(6799, 1)\n"
     ]
    }
   ],
   "source": [
    "#Set Target Variable\n",
    "Y = pd.DataFrame(df[\"Adj Close\"])\n",
    "\n",
    "#Selecting the Features\n",
    "features = [\"Day\", \"Month\", \"Year\", \"Open\", \"High\", \"Low\", \"Close\"]\n",
    "X = pd.DataFrame(df[features])\n",
    "\n",
    "print(X.shape)\n",
    "print(Y.shape)"
   ]
  },
  {
   "cell_type": "markdown",
   "metadata": {},
   "source": [
    "# Split into a train and test set"
   ]
  },
  {
   "cell_type": "code",
   "execution_count": 8,
   "metadata": {},
   "outputs": [
    {
     "name": "stdout",
     "output_type": "stream",
     "text": [
      "The size of the train set is: 42833  and the size of the test set is: 4760\n",
      "The ratio is 0.9\n"
     ]
    }
   ],
   "source": [
    "from sklearn.model_selection import train_test_split\n",
    "\n",
    "Y = np.ravel(Y)\n",
    "X_train, X_test, y_train, y_test = train_test_split(X,Y, test_size=0.1, shuffle=False ,random_state=42)\n",
    "\n",
    "print(\"The size of the train set is:\", X_train.size, \" and the size of the test set is:\", X_test.size)\n",
    "print(\"The ratio is\", round(X_train.size/(X_test.size+X_train.size), 4))"
   ]
  },
  {
   "cell_type": "markdown",
   "metadata": {},
   "source": [
    "# Baseline model performance\n",
    "### Using the Close value as the Adjusted Close value for that day. "
   ]
  },
  {
   "cell_type": "code",
   "execution_count": 9,
   "metadata": {},
   "outputs": [
    {
     "name": "stdout",
     "output_type": "stream",
     "text": [
      "BASELINE MODEL:\n",
      "Using the Close value of that day as the Adjusted Close value prediction\n",
      "    - The R^2 score on test dataset =  0.9995465381105814\n",
      "    - RMSE on test dataset =  0.8035274621045462\n",
      "    - MAE on test dataset =  0.85663417272623\n"
     ]
    }
   ],
   "source": [
    "from sklearn.metrics import r2_score\n",
    "from sklearn.metrics import mean_squared_error, mean_absolute_error\n",
    "from math import sqrt\n",
    "\n",
    "\n",
    "Close_test = pd.DataFrame(X_test['Close'])\n",
    "BL_r2 = r2_score(y_test, Close_test)\n",
    "BL_RMSE = sqrt(mean_squared_error(y_test, Close_test))\n",
    "BL_MAE = sqrt(mean_absolute_error(y_test, Close_test))\n",
    "\n",
    "print('BASELINE MODEL:')\n",
    "print('Using the Close value of that day as the Adjusted Close value prediction')\n",
    "print('    - The R^2 score on test dataset = ',BL_r2)\n",
    "print('    - RMSE on test dataset = ', BL_RMSE)\n",
    "print('    - MAE on test dataset = ', BL_MAE)"
   ]
  },
  {
   "cell_type": "markdown",
   "metadata": {},
   "source": [
    "# Ridge regression"
   ]
  },
  {
   "cell_type": "markdown",
   "metadata": {},
   "source": [
    "## Grid search for best parameters for Ridge model"
   ]
  },
  {
   "cell_type": "code",
   "execution_count": 10,
   "metadata": {},
   "outputs": [],
   "source": [
    "from sklearn.linear_model import Lasso, Ridge\n",
    "from sklearn.preprocessing import StandardScaler\n",
    "from sklearn.pipeline import Pipeline\n",
    "from sklearn.model_selection import GridSearchCV\n"
   ]
  },
  {
   "cell_type": "markdown",
   "metadata": {},
   "source": [
    "Pipeline"
   ]
  },
  {
   "cell_type": "code",
   "execution_count": 11,
   "metadata": {},
   "outputs": [],
   "source": [
    "pipeline = Pipeline([\n",
    "    ('scaler', StandardScaler()),\n",
    "    ('model', Ridge(max_iter=100000, tol=0.001))\n",
    "])"
   ]
  },
  {
   "cell_type": "code",
   "execution_count": 12,
   "metadata": {},
   "outputs": [],
   "source": [
    "search = GridSearchCV(pipeline,\n",
    "                     {'model__alpha':np.linspace(0.002,0.005,20)},\n",
    "                     cv=4,\n",
    "                     scoring = 'neg_root_mean_squared_error',\n",
    "                     verbose=0\n",
    "                     \n",
    "                     )"
   ]
  },
  {
   "cell_type": "code",
   "execution_count": 13,
   "metadata": {},
   "outputs": [
    {
     "data": {
      "text/plain": [
       "GridSearchCV(cv=4,\n",
       "             estimator=Pipeline(steps=[('scaler', StandardScaler()),\n",
       "                                       ('model', Ridge(max_iter=100000))]),\n",
       "             param_grid={'model__alpha': array([0.002     , 0.00215789, 0.00231579, 0.00247368, 0.00263158,\n",
       "       0.00278947, 0.00294737, 0.00310526, 0.00326316, 0.00342105,\n",
       "       0.00357895, 0.00373684, 0.00389474, 0.00405263, 0.00421053,\n",
       "       0.00436842, 0.00452632, 0.00468421, 0.00484211, 0.005     ])},\n",
       "             scoring='neg_root_mean_squared_error')"
      ]
     },
     "execution_count": 13,
     "metadata": {},
     "output_type": "execute_result"
    }
   ],
   "source": [
    "# import warnings\n",
    "# warnings.filterwarnings('ignore')\n",
    "\n",
    "search.fit(X_train, y_train)\n"
   ]
  },
  {
   "cell_type": "code",
   "execution_count": 14,
   "metadata": {},
   "outputs": [
    {
     "name": "stdout",
     "output_type": "stream",
     "text": [
      "{'model__alpha': 0.005}\n",
      "[-2.41085064e-03 -3.42805697e-02 -6.24916655e-01 -3.06145130e+00\n",
      "  2.77992432e+00  1.82008146e+00  1.21381841e+01]\n",
      "Features included in the Lasso model: ['Day' 'Month' 'Year' 'Open' 'High' 'Low' 'Close']\n",
      "Features discarded from the Lasso model: []\n"
     ]
    }
   ],
   "source": [
    "print(search.best_params_)\n",
    "coef = search.best_estimator_[1].coef_\n",
    "print(coef)\n",
    "print(\"Features included in the Lasso model:\", np.array(features)[coef != 0])\n",
    "print(\"Features discarded from the Lasso model:\", np.array(features)[coef == 0])"
   ]
  },
  {
   "cell_type": "code",
   "execution_count": 15,
   "metadata": {},
   "outputs": [
    {
     "name": "stdout",
     "output_type": "stream",
     "text": [
      "Ridge Regression model:\n",
      "Train:\n",
      "    - R^2 score =  0.9985841413249849\n",
      "    - RMSE =  0.49478609626767367\n",
      "    - MAE =  0.6135777204118708\n",
      "Test:\n",
      "    - R^2 score =  0.9939710622884429\n",
      "    - RMSE =  2.929886023563268\n",
      "    - MAE =  1.664706878225074\n"
     ]
    }
   ],
   "source": [
    "pred_train = search.best_estimator_.predict(X_train)\n",
    "pred_test = search.best_estimator_.predict(X_test)\n",
    "\n",
    "print('Ridge Regression model:')\n",
    "print(\"Train:\")\n",
    "print('    - R^2 score = ',r2_score(y_true= y_train, y_pred= pred_train))\n",
    "print('    - RMSE = ', sqrt(mean_squared_error(y_true= y_train, y_pred= pred_train)))\n",
    "print('    - MAE = ', sqrt(mean_absolute_error(y_true= y_train, y_pred= pred_train)))\n",
    "print(\"Test:\")\n",
    "print('    - R^2 score = ',r2_score(y_true= y_test, y_pred= pred_test))\n",
    "print('    - RMSE = ', sqrt(mean_squared_error(y_true= y_test, y_pred= pred_test)))\n",
    "print('    - MAE = ', sqrt(mean_absolute_error(y_true= y_test, y_pred= pred_test)))"
   ]
  }
 ],
 "metadata": {
  "interpreter": {
   "hash": "fd2ba105aab07b6a173e1db60e29d63cb192fbaecb08760dc9f1bb9ec4b3c40f"
  },
  "kernelspec": {
   "display_name": "Python 3.8.12 ('base')",
   "language": "python",
   "name": "python3"
  },
  "language_info": {
   "codemirror_mode": {
    "name": "ipython",
    "version": 3
   },
   "file_extension": ".py",
   "mimetype": "text/x-python",
   "name": "python",
   "nbconvert_exporter": "python",
   "pygments_lexer": "ipython3",
   "version": "3.8.12"
  },
  "orig_nbformat": 4
 },
 "nbformat": 4,
 "nbformat_minor": 2
}
