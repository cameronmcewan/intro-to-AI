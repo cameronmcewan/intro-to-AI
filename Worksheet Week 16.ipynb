{
 "cells": [
  {
   "cell_type": "markdown",
   "id": "34165bc1",
   "metadata": {},
   "source": [
    "# Contents\n",
    "1. **Single Layer Neural Networks**. We look at how a single layer network performs on a toy dataset\n",
    "2. **Multilayer Perceptrons**. We look at how multiple layers perform on toy datasets\n",
    "2. **Handwritten digit recognition in sklearn**. Learning to classify numbers using the libraries in sklearn\n",
    "2. **Handwritten digit recognition in Tensorflow**. Learning to classify numbers using libraries in Tensorflow\n",
    "\n",
    "Finally, try working through some tutorials in TensorFlow and play around with the different hyperparameter choices. Links to tutorials are at the end of the notebook."
   ]
  },
  {
   "cell_type": "markdown",
   "id": "764aa0bc",
   "metadata": {},
   "source": [
    "# Single Layer Neural Network\n",
    "\n",
    "In this question we apply a single-layer neural network to a linearly separable toy data set."
   ]
  },
  {
   "cell_type": "code",
   "execution_count": 1,
   "id": "0327bc9b",
   "metadata": {},
   "outputs": [],
   "source": [
    "import matplotlib.pyplot as plt\n",
    "import numpy as np\n",
    "from sklearn.datasets import make_moons, make_circles, make_classification\n",
    "from sklearn.neural_network import MLPClassifier \n",
    "from sklearn.linear_model import Perceptron"
   ]
  },
  {
   "cell_type": "markdown",
   "id": "f4f123db",
   "metadata": {},
   "source": [
    "We start by generating  and visualizing some data"
   ]
  },
  {
   "cell_type": "code",
   "execution_count": 2,
   "id": "f1e7e057",
   "metadata": {},
   "outputs": [
    {
     "data": {
      "image/png": "[encoded data removed]",
      "text/plain": [
       "<Figure size 432x288 with 1 Axes>"
      ]
     },
     "metadata": {
      "needs_background": "light"
     },
     "output_type": "display_data"
    }
   ],
   "source": [
    "X1, y1 = make_classification(n_features=2, n_redundant=0, \\\n",
    "            n_informative=1, random_state=1,n_clusters_per_class=1)\n",
    "fig1, ax1 = plt.subplots();\n",
    "ax1.scatter(X1[:,0],X1[:,1],c=y1, cmap='rainbow')\n",
    "plt.show()"
   ]
  },
  {
   "cell_type": "markdown",
   "id": "6c79c60e",
   "metadata": {},
   "source": [
    "Notice that the two classes can clearly be separated by a single line. We can now fit a single layer neural network to the data."
   ]
  },
  {
   "cell_type": "code",
   "execution_count": 3,
   "id": "ab310c2e",
   "metadata": {},
   "outputs": [],
   "source": [
    "nn1=Perceptron(alpha=1, max_iter=1000) \n",
    "model=nn1.fit(X1,y1)"
   ]
  },
  {
   "cell_type": "markdown",
   "id": "eccb3b10",
   "metadata": {},
   "source": [
    "(Optional) Plot the line that the perceptron is modelling. Look at the documentation to find out how you can get the values of the weights and the bias."
   ]
  },
  {
   "cell_type": "code",
   "execution_count": 4,
   "id": "f3789b67",
   "metadata": {},
   "outputs": [],
   "source": [
    "#TODO"
   ]
  },
  {
   "cell_type": "markdown",
   "id": "1410be6b",
   "metadata": {},
   "source": [
    "\n",
    "We can visualise the performance of this network again using a scatter plot, and colour the points using predicted class. Is the network able to give the right classification for each point?"
   ]
  },
  {
   "cell_type": "code",
   "execution_count": null,
   "id": "953c40f2",
   "metadata": {},
   "outputs": [],
   "source": [
    "ypred1=model.predict(X1)\n",
    "# TODO: Make a scatter plot of the predictions.\n",
    "\n",
    "# How do the predictions compare with the ground truth? Compute the accuracy to compare\n",
    "\n"
   ]
  },
  {
   "cell_type": "markdown",
   "id": "a384e1a9",
   "metadata": {},
   "source": [
    "# Multi-Layer NN on Toy Problems\n",
    "In this question we consider two toy problems in which the classes are not linearly separable. In the first example the two classes form moon shapes."
   ]
  },
  {
   "cell_type": "code",
   "execution_count": null,
   "id": "dc70d573",
   "metadata": {},
   "outputs": [],
   "source": [
    "X2, y2 = make_moons()\n",
    "fig2, ax2 = plt.subplots()\n",
    "ax2.scatter(X2[:,0],X2[:,1],c=y2, cmap='rainbow')"
   ]
  },
  {
   "cell_type": "markdown",
   "id": "4dae8070",
   "metadata": {},
   "source": [
    "Try fitting a single-layer neural network to the data. \n",
    "Comment on the performance and hypothesise what might be the source of the errors."
   ]
  },
  {
   "cell_type": "code",
   "execution_count": null,
   "id": "dc6f96ef",
   "metadata": {},
   "outputs": [],
   "source": [
    "#TODO"
   ]
  },
  {
   "cell_type": "markdown",
   "id": "3812ef5b",
   "metadata": {},
   "source": [
    "\n",
    "We can now try to fit an multi-layer NN to the same data."
   ]
  },
  {
   "cell_type": "code",
   "execution_count": null,
   "id": "b688a117",
   "metadata": {},
   "outputs": [],
   "source": [
    "nn2=MLPClassifier(alpha=1,hidden_layer_sizes=(10,10,10,10), max_iter=1000)\n",
    "model2=nn2.fit(X2,y2)\n",
    "ypred2=model2.predict(X2)\n",
    "ax2.scatter(X2[:,0],X2[:,1],c=ypred2, cmap='rainbow')\n",
    "fig2"
   ]
  },
  {
   "cell_type": "markdown",
   "id": "ae83ca25",
   "metadata": {},
   "source": [
    "This NN has 4 hidden layers each with 10 neurons. The parameter\n",
    "`hidden_layer_sizes=(x,y,z, ...)` identifies the number of neurons in each layer. Try experimenting with different configurations of hidden layers to see the effect on performance.\n",
    "\n",
    "Investigate the parameter `activation`. What are the different activation functions?"
   ]
  },
  {
   "cell_type": "markdown",
   "id": "23baaf64",
   "metadata": {},
   "source": [
    "The activation functions are:"
   ]
  },
  {
   "cell_type": "markdown",
   "id": "624932a6",
   "metadata": {},
   "source": [
    "We now introduce another toy classification problem based on classes in the form of two circles. Experiment with using different NN architectures to fit this data and plot the results."
   ]
  },
  {
   "cell_type": "code",
   "execution_count": null,
   "id": "dca72170",
   "metadata": {
    "scrolled": true
   },
   "outputs": [],
   "source": [
    "X3, y3 = make_circles()\n",
    "fig3, ax3 = plt.subplots()\n",
    "ax3.scatter(X3[:,0],X3[:,1],c=y3, cmap='rainbow')\n",
    "plt.show()"
   ]
  },
  {
   "cell_type": "code",
   "execution_count": null,
   "id": "b343aacc",
   "metadata": {},
   "outputs": [],
   "source": [
    "#TODO"
   ]
  },
  {
   "cell_type": "markdown",
   "id": "218dcf27",
   "metadata": {},
   "source": [
    "# Handwritten Digit Recognition\n",
    "The data set contains images of hand-written digits. There are 10 classes where each class refers to a digit. Preprocessing programs were used to extract normalized bitmaps of handwritten digits from a preprinted form.  32 × 32 bitmaps are divided into non-overlapping blocks of 4 × 4 and the number of on pixels are counted in each block. This generates an input matrix of 8 × 8 where each element is an integer in the range 0...16."
   ]
  },
  {
   "cell_type": "code",
   "execution_count": null,
   "id": "4ef9b198",
   "metadata": {},
   "outputs": [],
   "source": [
    "from sklearn.model_selection import train_test_split \n",
    "from sklearn import metrics\n",
    "from sklearn.datasets import load_digits\n",
    "digits = load_digits()\n"
   ]
  },
  {
   "cell_type": "markdown",
   "id": "aaaa2f82",
   "metadata": {},
   "source": [
    "Divide the data into training and test sets, fit a NN to the training data and evaulate its accuracy on both training and test data."
   ]
  },
  {
   "cell_type": "code",
   "execution_count": null,
   "id": "e648f27a",
   "metadata": {},
   "outputs": [],
   "source": [
    "#TODO"
   ]
  },
  {
   "cell_type": "markdown",
   "id": "11f82905",
   "metadata": {},
   "source": [
    "It is also useful to plot a time series graph of the loss function (error) against iteration."
   ]
  },
  {
   "cell_type": "code",
   "execution_count": null,
   "id": "ccc2ecb6",
   "metadata": {},
   "outputs": [],
   "source": [
    "loss_values = model4.loss_curve_\n",
    "plt.figure() \n",
    "plt.plot(loss_values)\n",
    "plt.show()"
   ]
  },
  {
   "cell_type": "markdown",
   "id": "cb869408",
   "metadata": {},
   "source": [
    "Try experimenting with different architectures and activation functions. "
   ]
  },
  {
   "cell_type": "markdown",
   "id": "21bc852d",
   "metadata": {},
   "source": [
    "## Handwritten digit recognition in Tensorflow\n",
    "This is an excerpt from a tutorial in Tensorflow, available at https://www.tensorflow.org/tutorials/quickstart/beginner. Tensorflow has lots of tutorials if you want to investigate. "
   ]
  },
  {
   "cell_type": "markdown",
   "id": "712b9020",
   "metadata": {},
   "source": [
    "In this tutorial, you are asked to:\n",
    "\n",
    "1. Load a prebuilt dataset.\n",
    "2. Build a neural network machine learning model that classifies images.\n",
    "2. Train this neural network.\n",
    "2. Evaluate the accuracy of the model.\n"
   ]
  },
  {
   "cell_type": "markdown",
   "id": "40d10d88",
   "metadata": {},
   "source": [
    "We firstly import TensorFlow. You may need to install TensorFlow first."
   ]
  },
  {
   "cell_type": "code",
   "execution_count": null,
   "id": "6b9ae772",
   "metadata": {},
   "outputs": [],
   "source": [
    "import tensorflow as tf\n",
    "print(\"TensorFlow version:\", tf.__version__)\n"
   ]
  },
  {
   "cell_type": "markdown",
   "id": "21e0561d",
   "metadata": {},
   "source": [
    "## Load the MNIST digits dataset\n",
    "\n",
    "Load the dataset and convert data from integgers into floating point numbers:"
   ]
  },
  {
   "cell_type": "code",
   "execution_count": null,
   "id": "693fe7b4",
   "metadata": {},
   "outputs": [],
   "source": [
    "mnist = tf.keras.datasets.mnist\n",
    "\n",
    "(x_train, y_train), (x_test, y_test) = mnist.load_data()\n",
    "x_train, x_test = x_train / 255.0, x_test / 255.0\n"
   ]
  },
  {
   "cell_type": "markdown",
   "id": "ff030457",
   "metadata": {},
   "source": [
    "## Build a machine learning model\n",
    "\n",
    "Here, the model is a sequential model, meaning that it has a feed-forward architecture rather than a recurrent architecture or otherwise.\n",
    "\n",
    "We set up a Sequential model and then add layers to it. Each layer can have different types: Flatten, Dense, Dropout. Look through the documentation for each layer to find out about them."
   ]
  },
  {
   "cell_type": "code",
   "execution_count": null,
   "id": "a31a7ebc",
   "metadata": {},
   "outputs": [],
   "source": [
    "model = tf.keras.models.Sequential([\n",
    "  tf.keras.layers.Flatten(input_shape=(28, 28)),\n",
    "  tf.keras.layers.Dense(128, activation='relu'),\n",
    "  tf.keras.layers.Dropout(0.2),\n",
    "  tf.keras.layers.Dense(10)\n",
    "])\n"
   ]
  },
  {
   "cell_type": "markdown",
   "id": "9e3881a8",
   "metadata": {},
   "source": [
    "For each datapoint, the model returns a vector of logits or log-odds scores, one for each class. Below, we make predictions for just one datapoint."
   ]
  },
  {
   "cell_type": "code",
   "execution_count": null,
   "id": "92ad9a71",
   "metadata": {},
   "outputs": [],
   "source": [
    "predictions = model(x_train[:1]).numpy()\n",
    "predictions"
   ]
  },
  {
   "cell_type": "markdown",
   "id": "6d629e89",
   "metadata": {},
   "source": [
    "The tf.nn.softmax function converts these logits to probabilities for each class - now we have the probabilities that this datapoint belongs to each class."
   ]
  },
  {
   "cell_type": "code",
   "execution_count": null,
   "id": "da40a8ee",
   "metadata": {},
   "outputs": [],
   "source": [
    "tf.nn.softmax(predictions).numpy()"
   ]
  },
  {
   "cell_type": "markdown",
   "id": "aafe4f1e",
   "metadata": {},
   "source": [
    "For training the model, we need to define a loss function. We will use losses.SparseCategoricalCrossentropy, which takes a vector of logits and a True index and returns a scalar loss for each example."
   ]
  },
  {
   "cell_type": "code",
   "execution_count": null,
   "id": "36a23d9a",
   "metadata": {},
   "outputs": [],
   "source": [
    "loss_fn = tf.keras.losses.SparseCategoricalCrossentropy(from_logits=True)\n"
   ]
  },
  {
   "cell_type": "markdown",
   "id": "1b71e928",
   "metadata": {},
   "source": [
    "This loss is equal to the negative log probability of the true class: The loss is zero if the model is sure of the correct class.\n",
    "\n",
    "This untrained model gives probabilities close to random (1/10 for each class), so the initial loss should be close to `-tf.math.log(1/10) ~= 2.3`."
   ]
  },
  {
   "cell_type": "code",
   "execution_count": null,
   "id": "9a685495",
   "metadata": {},
   "outputs": [],
   "source": [
    "loss_fn(y_train[:1], predictions).numpy()\n"
   ]
  },
  {
   "cell_type": "markdown",
   "id": "a8a4c415",
   "metadata": {},
   "source": [
    "Before we start training, we compile the model, setting the kind of optimizer we want to use (`adam`, the loss function, as set up above, and the metric we want to measure (`accuracy`)."
   ]
  },
  {
   "cell_type": "code",
   "execution_count": null,
   "id": "15ba83cb",
   "metadata": {},
   "outputs": [],
   "source": [
    "model.compile(optimizer='adam',\n",
    "              loss=loss_fn,\n",
    "              metrics=['accuracy'])\n"
   ]
  },
  {
   "cell_type": "markdown",
   "id": "c01717c6",
   "metadata": {},
   "source": [
    "Train and evaluate your model\n",
    "Use the `Model.fit` method to adjust your model parameters and minimize the loss: "
   ]
  },
  {
   "cell_type": "code",
   "execution_count": null,
   "id": "cb79c347",
   "metadata": {},
   "outputs": [],
   "source": [
    "model.fit(x_train, y_train, epochs=5)"
   ]
  },
  {
   "cell_type": "markdown",
   "id": "01b189d7",
   "metadata": {},
   "source": [
    "The `Model.evaluate` method checks the model's performance"
   ]
  },
  {
   "cell_type": "code",
   "execution_count": null,
   "id": "8f864274",
   "metadata": {},
   "outputs": [],
   "source": [
    "model.evaluate(x_test,  y_test, verbose=2)"
   ]
  },
  {
   "cell_type": "markdown",
   "id": "f8a1d270",
   "metadata": {},
   "source": [
    "The model is now trained to almost 98% accuracy. We evaluated the mode on the test set. Can you evaluate it on the training set? Try altering the structure of the network that we set up. Can you change the performance? It will be quite difficult to improve on 98% - but see if you can make it worse! What sort of changes can you make? What effect do they have?"
   ]
  },
  {
   "cell_type": "markdown",
   "id": "3aeb0739",
   "metadata": {},
   "source": [
    "### The fashion MNIST dataset\n",
    "To consolidate your learning, work through the tutorial at https://www.tensorflow.org/tutorials/keras/classification that shows you how to classify images of clothing using a neural network in TensorFlow.\n",
    "\n",
    "Try to \n",
    "1. Change the structure of the network. Can you change the performance of the network?\n",
    "2. Read about the different optimizers at https://www.tensorflow.org/api_docs/python/tf/keras/optimizers. Can you compile the model with a different optimizer? What effect does this have?\n",
    "2. Try changing the loss function. How can you change the loss function? What options are there?"
   ]
  },
  {
   "cell_type": "markdown",
   "id": "d9f2440c",
   "metadata": {},
   "source": [
    "More tutorials to try: \n",
    "1. Convolutional Neural Network https://www.tensorflow.org/tutorials/images/cnn\n",
    "2. Generative Adversarial Networks https://www.tensorflow.org/tutorials/generative/dcgan\n",
    "2. (More complex) Text Classification with RNNS https://www.tensorflow.org/text/tutorials/text_classification_rnn"
   ]
  },
  {
   "cell_type": "markdown",
   "id": "f3c21baf",
   "metadata": {},
   "source": [
    " "
   ]
  },
  {
   "cell_type": "code",
   "execution_count": null,
   "id": "f3d0e906",
   "metadata": {},
   "outputs": [],
   "source": []
  },
  {
   "cell_type": "code",
   "execution_count": null,
   "id": "6b9fca63",
   "metadata": {},
   "outputs": [],
   "source": []
  }
 ],
 "metadata": {
  "kernelspec": {
   "display_name": "Python 3 (ipykernel)",
   "language": "python",
   "name": "python3"
  },
  "language_info": {
   "codemirror_mode": {
    "name": "ipython",
    "version": 3
   },
   "file_extension": ".py",
   "mimetype": "text/x-python",
   "name": "python",
   "nbconvert_exporter": "python",
   "pygments_lexer": "ipython3",
   "version": "3.8.12"
  }
 },
 "nbformat": 4,
 "nbformat_minor": 5
}
