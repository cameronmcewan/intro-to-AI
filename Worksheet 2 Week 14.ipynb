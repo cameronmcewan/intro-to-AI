{
 "cells": [
  {
   "cell_type": "markdown",
   "metadata": {},
   "source": [
    "# Introduction\n",
    "\n",
    "This worksheet covers the three supervised learning algorithms we looked at in week 14: k-nearest neighbours, linear regression, and the naive Bayes classifier. Similar to last week, you will do some work implementing your own versions of these algorithms, to ensure that you understand the details of them. You will also compare them with the implementations in scikit-learn to test your implementations."
   ]
  },
  {
   "cell_type": "markdown",
   "metadata": {},
   "source": [
    "# Preliminaries\n",
    "Import key packages: NumPy, matplotlib, and any others that you prefer to work with. In general, when writing code, you will put all your import statements at the top. However, for these worksheets we will import as we go along."
   ]
  },
  {
   "cell_type": "code",
   "execution_count": 1,
   "metadata": {},
   "outputs": [],
   "source": [
    "import numpy as np\n",
    "import pandas as pd\n",
    "import matplotlib.pyplot as plt "
   ]
  },
  {
   "cell_type": "markdown",
   "metadata": {},
   "source": [
    "# Question 1: k-nearest neighbours classification\n",
    "In this question we will use the k-nearest neighbours algorithm to make predictions on the breast cancer Wisconsin dataset. This is a classification problem where the aim is to classify instances as either being malignant or benign based on the following 10 features:\n",
    "1. radius (mean of distances from center to points on the perimeter)\n",
    "2. texture (standard deviation of gray-scale values)\n",
    "3. perimeter\n",
    "4. area\n",
    "5. smoothness (local variation in radius lengths)\n",
    "6. compactness (perimeter squared/ area −1)\n",
    "7. concavity (severity of concave portions of the contour)\n",
    "8. concave points (number of concave portions of the contour)\n",
    "9. symmetry\n",
    "10. fractal dimension (‘coastline approximation’ −1)\n",
    "\n",
    "In this question you will (a) download the dataset from sklearn and store the data and targets in suitable variables, (b) separate your data into a training and test split, (c) write your own function to implement k-nearest neighbours, (d) check your implementation with that of sklearn. Wethen go on to (e) select the most appropriate value of $k$ using cross-validation."
   ]
  },
  {
   "cell_type": "markdown",
   "metadata": {},
   "source": [
    "## Part (a)\n",
    "Import the package `datasets` from `sklearn` and then load the breast cancer dataset (function is `load_breast_cancer()`). Save the data into a variable `X` and the targets into a variable `Y`. \n",
    "Take a look at the data in `X`. How many datapoints are there? How many features does each datapoint have? (Hint: use `np.shape`).\n",
    "Take a look at the targets. Is this suitable for a classification algorithm or a regression algorithm?"
   ]
  },
  {
   "cell_type": "code",
   "execution_count": 2,
   "metadata": {},
   "outputs": [],
   "source": [
    "# Import suitable packages, load the dataset, and save data and targets into variables X and Y\n",
    "# import packages\n",
    "from sklearn.datasets import load_breast_cancer\n",
    "\n",
    "df = load_breast_cancer(as_frame=True)\n",
    "X = df.data\n",
    "Y = df.target"
   ]
  },
  {
   "cell_type": "markdown",
   "metadata": {},
   "source": [
    "## Part (b)\n",
    "\n",
    "Use the function `train_test_split` from `sklearn.model_selection` to split your data into a training set and a held-out test set. Use a test set that is 0.2 of the original dataset. Set the parameter `random_state` to 10 to help with replication."
   ]
  },
  {
   "cell_type": "code",
   "execution_count": 3,
   "metadata": {},
   "outputs": [],
   "source": [
    "# Import the package train_test_split from sklearn.model_selection.\n",
    "from sklearn.model_selection import train_test_split\n",
    "\n",
    "X_train, X_test, Y_train, Y_test = train_test_split(X, Y, test_size=0.2, random_state=10)"
   ]
  },
  {
   "cell_type": "code",
   "execution_count": 5,
   "metadata": {},
   "outputs": [
    {
     "data": {
      "text/html": [
       "<div>\n",
       "<style scoped>\n",
       "    .dataframe tbody tr th:only-of-type {\n",
       "        vertical-align: middle;\n",
       "    }\n",
       "\n",
       "    .dataframe tbody tr th {\n",
       "        vertical-align: top;\n",
       "    }\n",
       "\n",
       "    .dataframe thead th {\n",
       "        text-align: right;\n",
       "    }\n",
       "</style>\n",
       "<table border=\"1\" class=\"dataframe\">\n",
       "  <thead>\n",
       "    <tr style=\"text-align: right;\">\n",
       "      <th></th>\n",
       "      <th>mean radius</th>\n",
       "      <th>mean texture</th>\n",
       "      <th>mean perimeter</th>\n",
       "      <th>mean area</th>\n",
       "      <th>mean smoothness</th>\n",
       "      <th>mean compactness</th>\n",
       "      <th>mean concavity</th>\n",
       "      <th>mean concave points</th>\n",
       "      <th>mean symmetry</th>\n",
       "      <th>mean fractal dimension</th>\n",
       "      <th>...</th>\n",
       "      <th>worst radius</th>\n",
       "      <th>worst texture</th>\n",
       "      <th>worst perimeter</th>\n",
       "      <th>worst area</th>\n",
       "      <th>worst smoothness</th>\n",
       "      <th>worst compactness</th>\n",
       "      <th>worst concavity</th>\n",
       "      <th>worst concave points</th>\n",
       "      <th>worst symmetry</th>\n",
       "      <th>worst fractal dimension</th>\n",
       "    </tr>\n",
       "  </thead>\n",
       "  <tbody>\n",
       "    <tr>\n",
       "      <th>567</th>\n",
       "      <td>20.60</td>\n",
       "      <td>29.33</td>\n",
       "      <td>140.10</td>\n",
       "      <td>1265.0</td>\n",
       "      <td>0.11780</td>\n",
       "      <td>0.27700</td>\n",
       "      <td>0.35140</td>\n",
       "      <td>0.15200</td>\n",
       "      <td>0.2397</td>\n",
       "      <td>0.07016</td>\n",
       "      <td>...</td>\n",
       "      <td>25.74</td>\n",
       "      <td>39.42</td>\n",
       "      <td>184.60</td>\n",
       "      <td>1821.0</td>\n",
       "      <td>0.1650</td>\n",
       "      <td>0.8681</td>\n",
       "      <td>0.93870</td>\n",
       "      <td>0.26500</td>\n",
       "      <td>0.4087</td>\n",
       "      <td>0.12400</td>\n",
       "    </tr>\n",
       "    <tr>\n",
       "      <th>295</th>\n",
       "      <td>13.77</td>\n",
       "      <td>13.27</td>\n",
       "      <td>88.06</td>\n",
       "      <td>582.7</td>\n",
       "      <td>0.09198</td>\n",
       "      <td>0.06221</td>\n",
       "      <td>0.01063</td>\n",
       "      <td>0.01917</td>\n",
       "      <td>0.1592</td>\n",
       "      <td>0.05912</td>\n",
       "      <td>...</td>\n",
       "      <td>14.67</td>\n",
       "      <td>16.93</td>\n",
       "      <td>94.17</td>\n",
       "      <td>661.1</td>\n",
       "      <td>0.1170</td>\n",
       "      <td>0.1072</td>\n",
       "      <td>0.03732</td>\n",
       "      <td>0.05802</td>\n",
       "      <td>0.2823</td>\n",
       "      <td>0.06794</td>\n",
       "    </tr>\n",
       "    <tr>\n",
       "      <th>91</th>\n",
       "      <td>15.37</td>\n",
       "      <td>22.76</td>\n",
       "      <td>100.20</td>\n",
       "      <td>728.2</td>\n",
       "      <td>0.09200</td>\n",
       "      <td>0.10360</td>\n",
       "      <td>0.11220</td>\n",
       "      <td>0.07483</td>\n",
       "      <td>0.1717</td>\n",
       "      <td>0.06097</td>\n",
       "      <td>...</td>\n",
       "      <td>16.43</td>\n",
       "      <td>25.84</td>\n",
       "      <td>107.50</td>\n",
       "      <td>830.9</td>\n",
       "      <td>0.1257</td>\n",
       "      <td>0.1997</td>\n",
       "      <td>0.28460</td>\n",
       "      <td>0.14760</td>\n",
       "      <td>0.2556</td>\n",
       "      <td>0.06828</td>\n",
       "    </tr>\n",
       "    <tr>\n",
       "      <th>1</th>\n",
       "      <td>20.57</td>\n",
       "      <td>17.77</td>\n",
       "      <td>132.90</td>\n",
       "      <td>1326.0</td>\n",
       "      <td>0.08474</td>\n",
       "      <td>0.07864</td>\n",
       "      <td>0.08690</td>\n",
       "      <td>0.07017</td>\n",
       "      <td>0.1812</td>\n",
       "      <td>0.05667</td>\n",
       "      <td>...</td>\n",
       "      <td>24.99</td>\n",
       "      <td>23.41</td>\n",
       "      <td>158.80</td>\n",
       "      <td>1956.0</td>\n",
       "      <td>0.1238</td>\n",
       "      <td>0.1866</td>\n",
       "      <td>0.24160</td>\n",
       "      <td>0.18600</td>\n",
       "      <td>0.2750</td>\n",
       "      <td>0.08902</td>\n",
       "    </tr>\n",
       "    <tr>\n",
       "      <th>94</th>\n",
       "      <td>15.06</td>\n",
       "      <td>19.83</td>\n",
       "      <td>100.30</td>\n",
       "      <td>705.6</td>\n",
       "      <td>0.10390</td>\n",
       "      <td>0.15530</td>\n",
       "      <td>0.17000</td>\n",
       "      <td>0.08815</td>\n",
       "      <td>0.1855</td>\n",
       "      <td>0.06284</td>\n",
       "      <td>...</td>\n",
       "      <td>18.23</td>\n",
       "      <td>24.23</td>\n",
       "      <td>123.50</td>\n",
       "      <td>1025.0</td>\n",
       "      <td>0.1551</td>\n",
       "      <td>0.4203</td>\n",
       "      <td>0.52030</td>\n",
       "      <td>0.21150</td>\n",
       "      <td>0.2834</td>\n",
       "      <td>0.08234</td>\n",
       "    </tr>\n",
       "    <tr>\n",
       "      <th>...</th>\n",
       "      <td>...</td>\n",
       "      <td>...</td>\n",
       "      <td>...</td>\n",
       "      <td>...</td>\n",
       "      <td>...</td>\n",
       "      <td>...</td>\n",
       "      <td>...</td>\n",
       "      <td>...</td>\n",
       "      <td>...</td>\n",
       "      <td>...</td>\n",
       "      <td>...</td>\n",
       "      <td>...</td>\n",
       "      <td>...</td>\n",
       "      <td>...</td>\n",
       "      <td>...</td>\n",
       "      <td>...</td>\n",
       "      <td>...</td>\n",
       "      <td>...</td>\n",
       "      <td>...</td>\n",
       "      <td>...</td>\n",
       "      <td>...</td>\n",
       "    </tr>\n",
       "    <tr>\n",
       "      <th>369</th>\n",
       "      <td>22.01</td>\n",
       "      <td>21.90</td>\n",
       "      <td>147.20</td>\n",
       "      <td>1482.0</td>\n",
       "      <td>0.10630</td>\n",
       "      <td>0.19540</td>\n",
       "      <td>0.24480</td>\n",
       "      <td>0.15010</td>\n",
       "      <td>0.1824</td>\n",
       "      <td>0.06140</td>\n",
       "      <td>...</td>\n",
       "      <td>27.66</td>\n",
       "      <td>25.80</td>\n",
       "      <td>195.00</td>\n",
       "      <td>2227.0</td>\n",
       "      <td>0.1294</td>\n",
       "      <td>0.3885</td>\n",
       "      <td>0.47560</td>\n",
       "      <td>0.24320</td>\n",
       "      <td>0.2741</td>\n",
       "      <td>0.08574</td>\n",
       "    </tr>\n",
       "    <tr>\n",
       "      <th>320</th>\n",
       "      <td>10.25</td>\n",
       "      <td>16.18</td>\n",
       "      <td>66.52</td>\n",
       "      <td>324.2</td>\n",
       "      <td>0.10610</td>\n",
       "      <td>0.11110</td>\n",
       "      <td>0.06726</td>\n",
       "      <td>0.03965</td>\n",
       "      <td>0.1743</td>\n",
       "      <td>0.07279</td>\n",
       "      <td>...</td>\n",
       "      <td>11.28</td>\n",
       "      <td>20.61</td>\n",
       "      <td>71.53</td>\n",
       "      <td>390.4</td>\n",
       "      <td>0.1402</td>\n",
       "      <td>0.2360</td>\n",
       "      <td>0.18980</td>\n",
       "      <td>0.09744</td>\n",
       "      <td>0.2608</td>\n",
       "      <td>0.09702</td>\n",
       "    </tr>\n",
       "    <tr>\n",
       "      <th>527</th>\n",
       "      <td>12.34</td>\n",
       "      <td>12.27</td>\n",
       "      <td>78.94</td>\n",
       "      <td>468.5</td>\n",
       "      <td>0.09003</td>\n",
       "      <td>0.06307</td>\n",
       "      <td>0.02958</td>\n",
       "      <td>0.02647</td>\n",
       "      <td>0.1689</td>\n",
       "      <td>0.05808</td>\n",
       "      <td>...</td>\n",
       "      <td>13.61</td>\n",
       "      <td>19.27</td>\n",
       "      <td>87.22</td>\n",
       "      <td>564.9</td>\n",
       "      <td>0.1292</td>\n",
       "      <td>0.2074</td>\n",
       "      <td>0.17910</td>\n",
       "      <td>0.10700</td>\n",
       "      <td>0.3110</td>\n",
       "      <td>0.07592</td>\n",
       "    </tr>\n",
       "    <tr>\n",
       "      <th>125</th>\n",
       "      <td>13.85</td>\n",
       "      <td>17.21</td>\n",
       "      <td>88.44</td>\n",
       "      <td>588.7</td>\n",
       "      <td>0.08785</td>\n",
       "      <td>0.06136</td>\n",
       "      <td>0.01420</td>\n",
       "      <td>0.01141</td>\n",
       "      <td>0.1614</td>\n",
       "      <td>0.05890</td>\n",
       "      <td>...</td>\n",
       "      <td>15.49</td>\n",
       "      <td>23.58</td>\n",
       "      <td>100.30</td>\n",
       "      <td>725.9</td>\n",
       "      <td>0.1157</td>\n",
       "      <td>0.1350</td>\n",
       "      <td>0.08115</td>\n",
       "      <td>0.05104</td>\n",
       "      <td>0.2364</td>\n",
       "      <td>0.07182</td>\n",
       "    </tr>\n",
       "    <tr>\n",
       "      <th>265</th>\n",
       "      <td>20.73</td>\n",
       "      <td>31.12</td>\n",
       "      <td>135.70</td>\n",
       "      <td>1419.0</td>\n",
       "      <td>0.09469</td>\n",
       "      <td>0.11430</td>\n",
       "      <td>0.13670</td>\n",
       "      <td>0.08646</td>\n",
       "      <td>0.1769</td>\n",
       "      <td>0.05674</td>\n",
       "      <td>...</td>\n",
       "      <td>32.49</td>\n",
       "      <td>47.16</td>\n",
       "      <td>214.00</td>\n",
       "      <td>3432.0</td>\n",
       "      <td>0.1401</td>\n",
       "      <td>0.2644</td>\n",
       "      <td>0.34420</td>\n",
       "      <td>0.16590</td>\n",
       "      <td>0.2868</td>\n",
       "      <td>0.08218</td>\n",
       "    </tr>\n",
       "  </tbody>\n",
       "</table>\n",
       "<p>455 rows × 30 columns</p>\n",
       "</div>"
      ],
      "text/plain": [
       "     mean radius  mean texture  mean perimeter  mean area  mean smoothness  \\\n",
       "567        20.60         29.33          140.10     1265.0          0.11780   \n",
       "295        13.77         13.27           88.06      582.7          0.09198   \n",
       "91         15.37         22.76          100.20      728.2          0.09200   \n",
       "1          20.57         17.77          132.90     1326.0          0.08474   \n",
       "94         15.06         19.83          100.30      705.6          0.10390   \n",
       "..           ...           ...             ...        ...              ...   \n",
       "369        22.01         21.90          147.20     1482.0          0.10630   \n",
       "320        10.25         16.18           66.52      324.2          0.10610   \n",
       "527        12.34         12.27           78.94      468.5          0.09003   \n",
       "125        13.85         17.21           88.44      588.7          0.08785   \n",
       "265        20.73         31.12          135.70     1419.0          0.09469   \n",
       "\n",
       "     mean compactness  mean concavity  mean concave points  mean symmetry  \\\n",
       "567           0.27700         0.35140              0.15200         0.2397   \n",
       "295           0.06221         0.01063              0.01917         0.1592   \n",
       "91            0.10360         0.11220              0.07483         0.1717   \n",
       "1             0.07864         0.08690              0.07017         0.1812   \n",
       "94            0.15530         0.17000              0.08815         0.1855   \n",
       "..                ...             ...                  ...            ...   \n",
       "369           0.19540         0.24480              0.15010         0.1824   \n",
       "320           0.11110         0.06726              0.03965         0.1743   \n",
       "527           0.06307         0.02958              0.02647         0.1689   \n",
       "125           0.06136         0.01420              0.01141         0.1614   \n",
       "265           0.11430         0.13670              0.08646         0.1769   \n",
       "\n",
       "     mean fractal dimension  ...  worst radius  worst texture  \\\n",
       "567                 0.07016  ...         25.74          39.42   \n",
       "295                 0.05912  ...         14.67          16.93   \n",
       "91                  0.06097  ...         16.43          25.84   \n",
       "1                   0.05667  ...         24.99          23.41   \n",
       "94                  0.06284  ...         18.23          24.23   \n",
       "..                      ...  ...           ...            ...   \n",
       "369                 0.06140  ...         27.66          25.80   \n",
       "320                 0.07279  ...         11.28          20.61   \n",
       "527                 0.05808  ...         13.61          19.27   \n",
       "125                 0.05890  ...         15.49          23.58   \n",
       "265                 0.05674  ...         32.49          47.16   \n",
       "\n",
       "     worst perimeter  worst area  worst smoothness  worst compactness  \\\n",
       "567           184.60      1821.0            0.1650             0.8681   \n",
       "295            94.17       661.1            0.1170             0.1072   \n",
       "91            107.50       830.9            0.1257             0.1997   \n",
       "1             158.80      1956.0            0.1238             0.1866   \n",
       "94            123.50      1025.0            0.1551             0.4203   \n",
       "..               ...         ...               ...                ...   \n",
       "369           195.00      2227.0            0.1294             0.3885   \n",
       "320            71.53       390.4            0.1402             0.2360   \n",
       "527            87.22       564.9            0.1292             0.2074   \n",
       "125           100.30       725.9            0.1157             0.1350   \n",
       "265           214.00      3432.0            0.1401             0.2644   \n",
       "\n",
       "     worst concavity  worst concave points  worst symmetry  \\\n",
       "567          0.93870               0.26500          0.4087   \n",
       "295          0.03732               0.05802          0.2823   \n",
       "91           0.28460               0.14760          0.2556   \n",
       "1            0.24160               0.18600          0.2750   \n",
       "94           0.52030               0.21150          0.2834   \n",
       "..               ...                   ...             ...   \n",
       "369          0.47560               0.24320          0.2741   \n",
       "320          0.18980               0.09744          0.2608   \n",
       "527          0.17910               0.10700          0.3110   \n",
       "125          0.08115               0.05104          0.2364   \n",
       "265          0.34420               0.16590          0.2868   \n",
       "\n",
       "     worst fractal dimension  \n",
       "567                  0.12400  \n",
       "295                  0.06794  \n",
       "91                   0.06828  \n",
       "1                    0.08902  \n",
       "94                   0.08234  \n",
       "..                       ...  \n",
       "369                  0.08574  \n",
       "320                  0.09702  \n",
       "527                  0.07592  \n",
       "125                  0.07182  \n",
       "265                  0.08218  \n",
       "\n",
       "[455 rows x 30 columns]"
      ]
     },
     "execution_count": 5,
     "metadata": {},
     "output_type": "execute_result"
    }
   ],
   "source": [
    "X_train"
   ]
  },
  {
   "cell_type": "code",
   "execution_count": 9,
   "metadata": {},
   "outputs": [
    {
     "data": {
      "text/plain": [
       "567    0\n",
       "295    1\n",
       "91     0\n",
       "1      0\n",
       "94     0\n",
       "      ..\n",
       "369    0\n",
       "320    1\n",
       "527    1\n",
       "125    1\n",
       "265    0\n",
       "Name: target, Length: 455, dtype: int64"
      ]
     },
     "execution_count": 9,
     "metadata": {},
     "output_type": "execute_result"
    }
   ],
   "source": [
    "Y_train"
   ]
  },
  {
   "cell_type": "code",
   "execution_count": 4,
   "metadata": {},
   "outputs": [
    {
     "data": {
      "text/plain": [
       "mean radius                 12.940000\n",
       "mean texture                16.170000\n",
       "mean perimeter              83.180000\n",
       "mean area                  507.600000\n",
       "mean smoothness              0.098790\n",
       "mean compactness             0.088360\n",
       "mean concavity               0.032960\n",
       "mean concave points          0.023900\n",
       "mean symmetry                0.173500\n",
       "mean fractal dimension       0.062000\n",
       "radius error                 0.145800\n",
       "texture error                0.905000\n",
       "perimeter error              0.997500\n",
       "area error                  11.360000\n",
       "smoothness error             0.002887\n",
       "compactness error            0.012850\n",
       "concavity error              0.016130\n",
       "concave points error         0.007308\n",
       "symmetry error               0.018700\n",
       "fractal dimension error      0.001972\n",
       "worst radius                13.860000\n",
       "worst texture               23.020000\n",
       "worst perimeter             89.690000\n",
       "worst area                 580.900000\n",
       "worst smoothness             0.117200\n",
       "worst compactness            0.195800\n",
       "worst concavity              0.181000\n",
       "worst concave points         0.083880\n",
       "worst symmetry               0.329700\n",
       "worst fractal dimension      0.078340\n",
       "Name: 403, dtype: float64"
      ]
     },
     "execution_count": 4,
     "metadata": {},
     "output_type": "execute_result"
    }
   ],
   "source": [
    "X_train.iloc[5,:]"
   ]
  },
  {
   "cell_type": "markdown",
   "metadata": {},
   "source": [
    "## Part (c) \n",
    "Recall from the lecture that the k-nearest neighbours algorithm runs as follows:\n",
    "\n",
    "Training step: Simply store the dataset\n",
    "\n",
    "Prediction step: Given a datapoint $\\vec{x}$:\n",
    " - **Find** the k datapoints $(\\vec{x}_i, y_i)$ where the distance from $\\vec{x}$ to $\\vec{x}_i$ is smallest\n",
    " - **Return** the majority class from the $y_i$\n",
    "   \n",
    " \n",
    "What, if anything, do you need to do for the training step?\n",
    "\n",
    "Write function(s) to implement the k-nearest neighbours prediction step. You may wish to break the procedure down into two functions `predict_datapoint` that makes a prediction for one datapoint and `predict_data` that loops over the whole dataset.\n",
    "\n",
    "To select the majority class from the nearest neighbours, you can use the function `scipy.stats.mode()`\n"
   ]
  },
  {
   "cell_type": "code",
   "execution_count": 10,
   "metadata": {},
   "outputs": [
    {
     "data": {
      "text/plain": [
       "KNeighborsClassifier()"
      ]
     },
     "execution_count": 10,
     "metadata": {},
     "output_type": "execute_result"
    }
   ],
   "source": [
    "from scipy.stats import mode\n",
    "from sklearn.neighbors import KNeighborsClassifier\n",
    "\n",
    "# Write function(s) to implement the prediction step in k-nearest neighbours. \n",
    "# You can use the suggested structure below if desired.\n",
    "\n",
    "knn = KNeighborsClassifier(n_neighbors=5)\n",
    "knn.fit(X_train, Y_train)"
   ]
  },
  {
   "cell_type": "code",
   "execution_count": null,
   "metadata": {},
   "outputs": [],
   "source": [
    "# predict_datapoint takes 4 arguments. pt (type: numpy array) is the datapoint we are making a prediction about, \n",
    "# Xtrain and Ytrain (numpy arrays) are training data and targets, k (int) is the number of neighbours.\n",
    "# Returns an integer which is the predicted class for pt\n",
    "def predict_datapoint(pt, X_train, Y_train, k):\n",
    "    # For each datapoint in Xtrain, calculate the distance to pt and store\n",
    "    \n",
    "    d_train = Y_train\n",
    "\n",
    "    for train_pt in range(X_train):\n",
    "        d_train.append(X_train)\n",
    "        d_train.append(pt - train_pt) \n",
    "\n",
    "    # Sort the list of distances (hint: use np.argsort)\n",
    "    ##TODO##\n",
    "    np.argsort(distances)\n",
    "\n",
    "    \n",
    "    # obtain the classes (in Ytrain) of the datapoints with the smallest distance to pt\n",
    "    ##TODO##\n",
    "    \n",
    "    # return the mode of the classes\n",
    "    ##TODO##\n",
    "\n",
    "# predict_data takes 4 arguments: the test data Xtst (numpy array), the training data Xtrain (numpy array),\n",
    "# the training targets Ytrain (numpy array), and the number of neighbours k (int, default = 3). \n",
    "# Returns: predictions (array of int) for each point in Xtst\n",
    "def predict_data(Xtst, Xtrain, Ytrain, k=3):\n",
    "    #Loop over the datapoints in Xtst and store the prediction for that datapoint\n",
    "    ##TODO##\n",
    "    # Return the predictions\n",
    "    ##TODO##\n",
    "\n",
    "# Predict values for the TRAINING data (we will not look at the test set yet)\n",
    "##TODO##"
   ]
  },
  {
   "cell_type": "markdown",
   "metadata": {},
   "source": [
    "## Part (d)\n",
    "Now we can compare your implementation with the sklearn implementation (you should get the same results). Firstly import the classfifier `KNeighborsClassifier` from `sklearn.neighbors`. Instantiate the classifier with the same number of neighbours that you used previously. Fit the model and make a prediction on the test set."
   ]
  },
  {
   "cell_type": "code",
   "execution_count": null,
   "metadata": {},
   "outputs": [],
   "source": [
    "# Import KNeighborClassifier\n",
    "##TODO##\n",
    "\n",
    "# Instantiate the classifier with 3 neighbors\n",
    "##TODO##\n",
    "\n",
    "#Fit the classifier on the training data\n",
    "##TODO##\n",
    "\n",
    "#Make a prediction on the training data\n",
    "##TODO##"
   ]
  },
  {
   "cell_type": "markdown",
   "metadata": {},
   "source": [
    "Check whether your predictions are the same as the predictions from `KNeighborsClassifier`."
   ]
  },
  {
   "cell_type": "code",
   "execution_count": null,
   "metadata": {},
   "outputs": [],
   "source": [
    "##TODO##"
   ]
  },
  {
   "cell_type": "markdown",
   "metadata": {},
   "source": [
    "Use the built in metrics in sklearn to calculate the accuracy of your classifier on the TRAINING set."
   ]
  },
  {
   "cell_type": "code",
   "execution_count": null,
   "metadata": {},
   "outputs": [],
   "source": [
    "##TODO## "
   ]
  },
  {
   "cell_type": "markdown",
   "metadata": {},
   "source": [
    "## Part(e) Using cross-validation for model selection\n",
    "k-nearest neighbours has the parameter $k$, and we need to decide which is the best value of $k$ to use. Last week we talked about using cross-validation for model selection.\n",
    "\n",
    "We will use cross-validation on our training set to select the best value of $k$, in a range from 1 to 30.\n",
    "\n",
    "NB: use sklearn's version of k-NN rather than yours, since unless you have optimised yours it is probably too slow.\n",
    "\n",
    "Since we are using cross-validation for model selection we will cross-validate on the training set only.\n",
    "\n",
    "Procedure:\n",
    "        \n",
    " 1. Import `KFold` from `sklearn.model_selection`  \n",
    " 1. Instantiate `KFold` with 5 splits. Set the parameter `random_state` to help you reproduce your results if needed.\n",
    " 1. Set a variable `max_k` to 30  \n",
    " 1. Inititalise two variables to store the training accuracies and validation accuracies (these need to store max_k\\*5 accuracies)  \n",
    " 1. Loop over the values of k:  \n",
    "    1. Instantiate a k-nn classifier (Use the sklearn classifier) with the current value of k  \n",
    "    1. Loop over the cross-validation splits:  \n",
    "       1. fit the model on the current split of data  \n",
    "       1. make predictions  \n",
    "       1. calculate training and validation accuracy and store  \n",
    " 6. Calculate the mean training and validation accuracies across splits for each $k$\n",
    "\n",
    "Plot the mean training and validation accuracies. Which value of $k$ will you use? Why?\n",
    "    "
   ]
  },
  {
   "cell_type": "code",
   "execution_count": null,
   "metadata": {},
   "outputs": [],
   "source": [
    "# Use cross-validation to select the value of k\n",
    "# You can use the structure below if desired\n",
    "\n",
    "# Import KFold from sklearn.model_selection\n",
    "##TODO##\n",
    "\n",
    "# Instantiate KFold with 5 splits. \n",
    "# Set the parameter random_state to help you reproduce your results if needed.\n",
    "##TODO##\n",
    "\n",
    "# Set a variable max_k to 30 \n",
    "##TODO##\n",
    "\n",
    "# Inititalise two variables to store the \n",
    "# training accuracies and validation accuracies \n",
    "# (these need to store max_k*5 accuracies) \n",
    "##TODO##\n",
    "\n",
    "# Loop over the values of k: \n",
    "for k in range(max_k):\n",
    "    \n",
    "    # Instantiate a k-nn classifier (Use the sklearn classifier)\n",
    "    # with the current value of k \n",
    "    ##TODO##\n",
    "    \n",
    "    # Loop over the cross-validation splits: \n",
    "    ##TODO##\n",
    "    \n",
    "        # fit the model on the current split of data \n",
    "        ##TODO##\n",
    "        \n",
    "        # make predictions \n",
    "        ##TODO##\n",
    "        \n",
    "        # calculate training and validation accuracy and store \n",
    "        ##TODO##\n",
    "        \n",
    "# Calculate the mean training and validation accuracies across splits for each 𝑘\n",
    "##TODO##"
   ]
  },
  {
   "cell_type": "code",
   "execution_count": null,
   "metadata": {},
   "outputs": [],
   "source": [
    "# Plot the mean training and validation accuracies against each value of k. Which value of 𝑘 will you use? Why?\n",
    "##TODO##"
   ]
  },
  {
   "cell_type": "markdown",
   "metadata": {},
   "source": [
    "# The naive Bayes classifier\n",
    "\n",
    "Recall from the lecture notes that the naive Bayes classifier works as follows. We are trying to approximate an unknown function $$f:\\Omega \\rightarrow \\mathcal{O}$$\n",
    "where $\\Omega$ is our feature space and our output space $\\mathcal{O} = \\{c_1, c_2, ... c_K\\}$ is a finite set of classes.\n",
    "\n",
    "The naive Bayes classifier does this by building a model that assigns the class label $\\hat{y} = c_k$ as follows:\n",
    "$$\n",
    "\\hat{y} = \\text{argmax}_k p(c_k)\\prod_i p(x_i| c_k)\n",
    "$$\n",
    "i.e., the $k$ that maximises this quantity.\n",
    "\n",
    "In practice, multiplying all the $p(x_i| c_k)$ together is going to give some very small values. Therefore, we can take the log to make it easier to compute:\n",
    "\\begin{align}\n",
    "\\hat{y} &= \\text{argmax}_k p(c_k)\\prod_i p(x_i| c_k)= \\text{argmax}_k log(p(c_k)\\prod_i p(x_i| c_k))\\\\\n",
    "&=\\text{argmax}_k log(p(c_k)) + \\sum_i log(p(x_i|c_k))\n",
    "\\end{align}\n",
    "\n",
    "If we choose that $p(x_i|c_k)$ is given by a normal distribution with mean $\\mu_k$ and variance $\\sigma_k^2$, then we obtain the following expression:\n",
    "\n",
    "\\begin{align}\n",
    "\\hat{y} &=\\text{argmax}_k \\log(p(c_k)) + \\sum_i \\log(p(x_i|c_k))\\\\\n",
    "&= \\text{argmax}_k \\log(p(c_k)) + \\sum_i \\log\\left(\\frac{1}{\\sigma_k\\sqrt{2\\pi}} exp\\left(\\frac{-(x-\\mu_k)^2}{2\\sigma_k}\\right)\\right)\\\\\n",
    "&= \\text{argmax}_k \\log(p(c_k)) - \\sum_i \\log\\left(\\sigma_k\\sqrt{2\\pi}\\right) - \\sum_i\\left(\\frac{(x-\\mu_k)^2}{2\\sigma_k}\\right) \\quad \\text{ log-likelihood}\n",
    "\\end{align}\n",
    "\n",
    "Expressing the values in terms of these sums means that they do not get so small, and it is less likely that there will be errors at the machine precision level.\n",
    "\n",
    "\n",
    "How do we implement this in practice? We assume that each probability $p(x_i| c_k)$ is given by some distribution, and then given a datapoint $\\vec{x}$, we plug the value into the equation for the distribution.\n",
    "\n",
    "In this question you will (a) implement your own version of the Gaussian naive Bayes classifier, (b) check your classifier against the implementation in sci-kit learn, (c) compare the accuracy of the naive Bayes classifier with the accuracy of the k-nearest neighbours classifier, and (d) run cross-validation to verify whether the kNN classfier or the Gaussian naive Bayes classifier performs better on this dataset.\n",
    "\n",
    "## Part (a) Implementing Gaussian naive Bayes\n",
    "For this question we will make the assumption that each feature is described by a normal (also called Gaussian) distribution. The procedure is as follows:\n",
    "1. Divide the training data by class\n",
    "2. Calculate mean and standard deviation per class and per feature\n",
    "4. For each datapoint in the validation set, calculate the log-likelihood for each class and for each feature (Hint: use the function `scipy.stats.norm.logpdf`)\n",
    "5. Combine these values together with the probability of the class according to the log-likelihood equation above\n",
    "6. Choose the class with the highest value\n"
   ]
  },
  {
   "cell_type": "code",
   "execution_count": null,
   "metadata": {},
   "outputs": [],
   "source": [
    "##TODO##\n",
    "# Write your own implementation of naive Bayes applied to the breast cancer dataset.\n",
    "\n",
    "# If you wish you can follow the structure below\n",
    "from scipy.stats import norm\n",
    "\n",
    "# Split the training data Xtr into training and validation sets with an 80:20 split. \n",
    "# Set the random state to help with reproducibility\n",
    "##TODO##\n",
    "\n",
    "#Separate the training set into classes, so you have one set of data for each class\n",
    "##TODO##\n",
    "\n",
    "# Calculate the means and standard deviations for each class, for each feature. \n",
    "# There are 30 features in the dataset, so you should have a 30-dimensional \n",
    "# array of means for each class and a 30-dimensional array of standard deviations\n",
    "# for each class. Remember that you can take the average across rows or columns of \n",
    "# a matrix by specifying axis = 1 or axis = 0\n",
    "##TODO##\n",
    "\n",
    "# Calculate the prior probability p(c_i) for each class\n",
    "##TODO##\n",
    "\n",
    "# Calculate the log-likelihood of each class for each datapoint in the validation set\n",
    "# Hint: you can use the function scipy.stats.norm.logpdf to help with this\n",
    "##TODO##\n",
    "\n",
    "# Your predicted class is 0 if class 0 has the highest log-likelihood, and 1 if class 1 \n",
    "# has the highest log-likelihood\n",
    "##TODO##"
   ]
  },
  {
   "cell_type": "markdown",
   "metadata": {},
   "source": [
    "## Part (b) Checking results\n",
    "We now compare our results with the sklearn implementation. "
   ]
  },
  {
   "cell_type": "code",
   "execution_count": null,
   "metadata": {},
   "outputs": [],
   "source": [
    "##Import the classifier GaussianNB from sklearn.naive_bayes\n",
    "from sklearn.naive_bayes import GaussianNB\n",
    "# Instantiate the classifier (use the parameter var_smoothing=0.0),\n",
    "# fit, and predict the classes\n",
    "##TODO##"
   ]
  },
  {
   "cell_type": "code",
   "execution_count": null,
   "metadata": {},
   "outputs": [],
   "source": [
    "# Compare your predicted classes with those of the sklearn implementation.\n",
    "# If they are not identical, this may be due to some differences in parameter setting. \n",
    "# They should be almost all the same, however.\n",
    "##TODO##"
   ]
  },
  {
   "cell_type": "markdown",
   "metadata": {},
   "source": [
    "## Part (c) Comparing k-nearest neighbours and Gaussian naive Bayes\n",
    "Now retrain the naive Bayes classifier using the original training set `Xtr`, `Ytr`.\n",
    "Also, retrain the k-nearest neighbours classifier using `Xtr` and `Ytr`. Use the value of $k$ that you decided on using cross-validation.\n",
    "You can use the sklearn implementations of knn and naive Bayes.\n",
    "\n",
    "Compute the accuracy of the naive Bayes classifier over the training set and the held-out test set.\n",
    "\n",
    "Compare with the accuracy of the k-nearest neighbours classifier on each set.\n",
    "\n",
    "Is it clear which classifier is the best on this dataset? why or why not?"
   ]
  },
  {
   "cell_type": "code",
   "execution_count": null,
   "metadata": {
    "scrolled": false
   },
   "outputs": [],
   "source": [
    "# Instantiate the knn classifer with your chosen value of k\n",
    "##TODO##\n",
    "\n",
    "# Fit the Gaussian naive Bayes classifier and the knn classifier on Xtr, Ytr\n",
    "##TODO##\n",
    "\n",
    "# Make predictions for the training set and the test set\n",
    "##TODO##\n",
    "\n",
    "# Take a look at the accuracy scores\n",
    "##TODO##\n"
   ]
  },
  {
   "cell_type": "markdown",
   "metadata": {},
   "source": [
    "## Part (d) Using cross-validation for statistical validation\n",
    "Earlier we used cross-validation to select the model parameters we would be using. We can also use it another way: to provide statistical information about which model is best. We will set up cross-validation on the whole dataset, with 10 folds.\n",
    "\n",
    " - Compute the accuracy for each model on the test set on each fold.\n",
    " - Calculate the mean accuracy across folds. Which model performs best?\n",
    " - Make a box-plot of the spread of scores of each model. Is there a clear difference between model performance?\n",
    " - Perform a paired t-test on the accuracy scores. What can you conclude about the performance of the two models?\n"
   ]
  },
  {
   "cell_type": "code",
   "execution_count": null,
   "metadata": {},
   "outputs": [],
   "source": [
    "# Set up a k-fold cross-validation with 10 folds\n",
    "##TODO##"
   ]
  },
  {
   "cell_type": "code",
   "execution_count": null,
   "metadata": {},
   "outputs": [],
   "source": [
    "# For each fold, fit each model on the training data \n",
    "# and compute accuracy on the test data.\n",
    "##TODO##"
   ]
  },
  {
   "cell_type": "code",
   "execution_count": null,
   "metadata": {},
   "outputs": [],
   "source": [
    "# Compute the mean and standard devation of the accuracies for each model.\n",
    "# Does one model perform better?\n",
    "##TODO##"
   ]
  },
  {
   "cell_type": "code",
   "execution_count": null,
   "metadata": {},
   "outputs": [],
   "source": [
    "# Make a boxplot of the accuracy scores. (Use plt.boxplot). \n",
    "# Is there a clear difference between the models?\n",
    "##TODO##"
   ]
  },
  {
   "cell_type": "code",
   "execution_count": null,
   "metadata": {},
   "outputs": [],
   "source": [
    "# Perform a paired t-test (you can use the function scipy.stats.ttest_rel). \n",
    "# What do you conclude about the performance of the two models?\n",
    "##TODO##"
   ]
  },
  {
   "cell_type": "markdown",
   "metadata": {},
   "source": [
    "## Linear Regression\n",
    "In linear regression we make the assumption that the data $(x_i, y_i)$ can be modelled by a function of the form\n",
    "$$ \\hat{y_i} = f(\\vec{x}_i)= \\sum_j a_j x_{ij}  + b_i$$\n",
    "\n",
    "Recall that we can express this in a matrix format by:\n",
    "$$ \\hat{\\vec{y}} = f(X)= X\\Theta$$\n",
    "\n",
    "where \n",
    "$$ X=\\begin{pmatrix}\n",
    "x_{1,1} & x_{1,2} & \\ldots & x_{1,n} &1 \\\\\n",
    "\\vdots & \\vdots & \\ldots & \\vdots & \\vdots \\\\\n",
    "x_{N,1} & x_{N,2} & \\ldots & x_{N,n} & 1\n",
    "\\end{pmatrix}, \\quad \\vec{y}=\\begin{pmatrix} y_1 \\\\ \\vdots \\\\y_N \\end{pmatrix}, \\quad \\Theta=\\begin{pmatrix} a_1 \\\\ \\vdots \\\\a_n\\\\b \\end{pmatrix}$$\n",
    "\n",
    "We saw in lectures that the optimal value of $\\Theta$ is given by setting\n",
    "$$ \\Theta = (X^T X)^{-1} X^T \\vec{y}$$\n",
    "\n",
    "The quantity $(X^T X)^{-1} X^T$ is called the psuedoinverse of X, and can be computed using the function `np.linalg.pinv`.\n",
    "\n",
    "We will (a) perform a linear regression on the diabetes dataset. You can load this dataset using the function `load_diabetes` from `sklearn.datasets`. (b) compute the mean squared error and the R^2, and (c) compare your results with the built in function in sklearn (`sklearn.linear_model.LinearRegresion()`). You should get the same results."
   ]
  },
  {
   "cell_type": "code",
   "execution_count": null,
   "metadata": {},
   "outputs": [],
   "source": [
    "# import statments here\n",
    "from sklearn import datasets, linear_model\n",
    "from sklearn.model_selection import train_test_split\n",
    "from sklearn.metrics import mean_squared_error, r2_score"
   ]
  },
  {
   "cell_type": "markdown",
   "metadata": {},
   "source": [
    "## Part (a) Implementing linear regression"
   ]
  },
  {
   "cell_type": "code",
   "execution_count": null,
   "metadata": {},
   "outputs": [],
   "source": [
    "# Load the diabetes dataset \n",
    "##TODO##\n",
    "\n",
    "# Split the dataset into training and test, using test_size=0.2\n",
    "##TODO##"
   ]
  },
  {
   "cell_type": "code",
   "execution_count": null,
   "metadata": {},
   "outputs": [],
   "source": [
    "# Add a column of ones to Xtrain and Xtest for the intercept term\n",
    "##TODO##"
   ]
  },
  {
   "cell_type": "code",
   "execution_count": null,
   "metadata": {},
   "outputs": [],
   "source": [
    "# Calculate the value of the coefficients theta. You can use the function np.linalg.pinv\n",
    "##TODO##"
   ]
  },
  {
   "cell_type": "markdown",
   "metadata": {},
   "source": [
    "## Part (b) Computing performance metrics"
   ]
  },
  {
   "cell_type": "code",
   "execution_count": null,
   "metadata": {},
   "outputs": [],
   "source": [
    "# Make a prediction on the test set by applying the coefficients theta to the test set\n",
    "##TODO##"
   ]
  },
  {
   "cell_type": "code",
   "execution_count": null,
   "metadata": {},
   "outputs": [],
   "source": [
    "# Calculate the mean squared error and the R^2. \n",
    "# You can use the built in functions from sklearn\n",
    "##TODO##"
   ]
  },
  {
   "cell_type": "markdown",
   "metadata": {},
   "source": [
    "## Part (c) Checking results\n",
    "Compare your results with the built in function `sklearn.linear_model.LinearRegression()`"
   ]
  },
  {
   "cell_type": "code",
   "execution_count": null,
   "metadata": {},
   "outputs": [],
   "source": [
    "# Instantiate the linear regression\n",
    "##TODO##\n"
   ]
  },
  {
   "cell_type": "code",
   "execution_count": null,
   "metadata": {},
   "outputs": [],
   "source": [
    "# Fit the model and make a prediction on the test set. Compare with your implementation\n",
    "##TODO##\n"
   ]
  },
  {
   "cell_type": "markdown",
   "metadata": {},
   "source": [
    "Visualise the perfomance of the regression by plotting your predicted values vs target values on a scatter plot, and drawing a line y=x. If all predictions were perfect, the predicted values would lie on the line."
   ]
  },
  {
   "cell_type": "code",
   "execution_count": null,
   "metadata": {},
   "outputs": [],
   "source": [
    "# Plot predicted values vs target values on a scatter plot, and drawing a line y=x\n",
    "## TODO##\n"
   ]
  },
  {
   "cell_type": "markdown",
   "metadata": {},
   "source": [
    "# Extra question: Polynomial regression\n",
    "The term 'linear' in linear regression refers only to the coefficients $\\theta$. We can in fact compute polynomial terms in the data and perform linear regression over this extended dataset to get a better fit to the data.\n",
    "\n",
    "To compute polynomial terms in the data automatically, you can use the class `sklearn.preprocessing.PolynomialFeatures`. To find out how to use it, look at the guidance (you can type `help(PolynomialFeatures)` once you have imported it).\n",
    "\n",
    "The following small dataset (in the cell below) gives a relationship between temperature and yield for an experiment. Use cross-validation to select the degree of the polynomial that best fits this data.\n",
    "\n",
    "Plot the mean squared error against degree on the training set and on the validation set. Which degree of polynomial best fits this data?"
   ]
  },
  {
   "cell_type": "code",
   "execution_count": null,
   "metadata": {},
   "outputs": [],
   "source": [
    "# Data\n",
    "X = np.array([50,50,50,70,70,70,80,80,80,90,90,90,100,100,100]).reshape(-1, 1)\n",
    "y = np.array([3.3,2.8,2.9,2.3,2.6,2.1,2.5,2.9,2.4,3,3.1,2.8,3.3,3.5,3]).reshape(-1, 1)"
   ]
  },
  {
   "cell_type": "code",
   "execution_count": null,
   "metadata": {},
   "outputs": [],
   "source": []
  },
  {
   "cell_type": "code",
   "execution_count": null,
   "metadata": {},
   "outputs": [],
   "source": []
  },
  {
   "cell_type": "code",
   "execution_count": null,
   "metadata": {},
   "outputs": [],
   "source": []
  }
 ],
 "metadata": {
  "kernelspec": {
   "display_name": "Python 3",
   "language": "python",
   "name": "python3"
  },
  "language_info": {
   "codemirror_mode": {
    "name": "ipython",
    "version": 3
   },
   "file_extension": ".py",
   "mimetype": "text/x-python",
   "name": "python",
   "nbconvert_exporter": "python",
   "pygments_lexer": "ipython3",
   "version": "3.8.12"
  }
 },
 "nbformat": 4,
 "nbformat_minor": 2
}
